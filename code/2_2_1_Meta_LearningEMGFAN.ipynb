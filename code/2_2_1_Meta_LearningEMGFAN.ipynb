{
 "cells": [
  {
   "cell_type": "markdown",
   "metadata": {},
   "source": [
    "# 1. Imports"
   ]
  },
  {
   "cell_type": "code",
   "execution_count": 1,
   "metadata": {},
   "outputs": [],
   "source": [
    "from utils.data_preparation import *\n",
    "from utils.preprocessing import *\n",
    "from models.model import *\n",
    "from utils.optimizers import *\n",
    "from utils.tools import *\n",
    "\n",
    "\n",
    "import torch\n",
    "import torch.nn as nn\n",
    "import torch.optim as optim\n",
    "import torch.nn.functional as F\n",
    "from torch.utils.data import DataLoader\n",
    "from torch.autograd import Variable\n",
    "\n",
    "import tqdm\n",
    "import matplotlib.pyplot as plt"
   ]
  },
  {
   "cell_type": "markdown",
   "metadata": {},
   "source": [
    "# 2. Data"
   ]
  },
  {
   "cell_type": "code",
   "execution_count": 2,
   "metadata": {},
   "outputs": [],
   "source": [
    "path = '/mnt/d/AI-Workspace/sEMGClassification/BMIS_EMG_DATA/data/mat_data'\n",
    "subject_number = 1\n",
    "end_subject = 2\n",
    "fs = 200\n",
    "number_gestures=7\n",
    "record_time = 5\n",
    "train_repetition = [1, 2, 3, 4]\n",
    "# train_repetition = [1]\n",
    "test_repetition = [5, 6]\n",
    "gesture = [1, 2, 3, 4, 5, 6, 7]\n",
    "selected_gesture = [1, 2, 3, 4, 5, 6, 7]\n",
    "num_gesture = len(gesture)\n",
    "\n",
    "\n",
    "no_channel = 7"
   ]
  },
  {
   "cell_type": "code",
   "execution_count": 3,
   "metadata": {},
   "outputs": [],
   "source": [
    "emg_prep = EMGDataPreparation(base_path=path, fs=200, rec_time=5)\n",
    "train_data, train_labels, test_data, test_labels = emg_prep.load_multiple_subject(start_subject=1, end_subject=end_subject, num_gesture=num_gesture, train_repetition=train_repetition, test_repetition=test_repetition, selected_gesture=selected_gesture)"
   ]
  },
  {
   "cell_type": "code",
   "execution_count": 4,
   "metadata": {},
   "outputs": [
    {
     "data": {
      "text/plain": [
       "((3498, 1, 7, 40), (3498,), (1748, 1, 7, 40), (1748,))"
      ]
     },
     "execution_count": 4,
     "metadata": {},
     "output_type": "execute_result"
    }
   ],
   "source": [
    "preprocess = EMGPreprocessing(fs=200, notch_freq=60.0, low_cut=10.0, high_cut=99.0, order=5)\n",
    "train_data = preprocess.remove_mains(train_data)\n",
    "test_data = preprocess.remove_mains(test_data)\n",
    "\n",
    "train_data = preprocess.bandpass_filter(train_data)\n",
    "test_data = preprocess.bandpass_filter(test_data)\n",
    "\n",
    "\n",
    "window_train_data, window_train_labels = emg_prep.window_with_overlap(train_data, train_labels, window_time=200, overlap=60, no_channel=no_channel)\n",
    "window_test_data, window_test_labels = emg_prep.window_with_overlap(test_data, test_labels, window_time=200, overlap=60, no_channel=no_channel)\n",
    "\n",
    "\n",
    "window_train_data = np.expand_dims(window_train_data, axis=1)\n",
    "window_test_data = np.expand_dims(window_test_data, axis=1)\n",
    "\n",
    "window_train_data.shape, window_train_labels.shape, window_test_data.shape, window_test_labels.shape"
   ]
  },
  {
   "cell_type": "code",
   "execution_count": 5,
   "metadata": {},
   "outputs": [],
   "source": [
    "window_train_data, window_train_labels = shuffle_data(window_train_data, window_train_labels)\n",
    "window_test_data, window_test_labels = shuffle_data(window_test_data, window_test_labels)\n",
    "\n",
    "\n",
    "train_dataset = EMGDataset(window_train_data, window_train_labels)\n",
    "test_dataset = EMGDataset(window_test_data, window_test_labels)\n",
    "\n",
    "train_dataloader = DataLoader(train_dataset, batch_size=32, shuffle=True, pin_memory=True, num_workers=4)\n",
    "test_dataloader = DataLoader(test_dataset, batch_size=32, shuffle=True, pin_memory=True, num_workers=4)"
   ]
  },
  {
   "cell_type": "code",
   "execution_count": 6,
   "metadata": {},
   "outputs": [],
   "source": [
    "def extract_support_n_query(data, labels, n_way, num_support, num_query):\n",
    "\n",
    "    # N_WAYS = CLASSES\n",
    "    # NUM_SUPPORT = NUMBER OF SUPPORT DATA PER CLASS\n",
    "    # NUM_QUERY = NUMBER OF QUERY DATA PER CLASS\n",
    "\n",
    "    support_query_data = []\n",
    "    support_query_label = []\n",
    "    K = np.random.choice(np.unique(labels), n_way, replace=False)\n",
    "    for i in K:\n",
    "        index = np.where(labels == i)\n",
    "        data_per_class = data[index]\n",
    "        labels_per_class = labels[index[0]]\n",
    "\n",
    "        permuated_index = np.random.permutation(index[0])\n",
    "        selected_index = permuated_index[:num_support+num_query]\n",
    "\n",
    "        support_query_data.append(data[selected_index])\n",
    "        support_query_label.append(labels[selected_index])\n",
    "    \n",
    "    support_query_data = np.array(support_query_data)\n",
    "    support_query_label = np.array(support_query_label)\n",
    "\n",
    "    return support_query_data,  support_query_label"
   ]
  },
  {
   "cell_type": "code",
   "execution_count": 7,
   "metadata": {},
   "outputs": [
    {
     "data": {
      "image/png": "[encoded data removed]",
      "text/plain": [
       "<Figure size 1200x600 with 2 Axes>"
      ]
     },
     "metadata": {},
     "output_type": "display_data"
    }
   ],
   "source": [
    "np.unique(window_train_labels, return_counts=True), np.unique(window_test_labels, return_counts=True)\n",
    "counts_train = np.unique(window_train_labels, return_counts=True)\n",
    "counts_test = np.unique(window_test_labels, return_counts=True)\n",
    "\n",
    "fig, ax = plt.subplots(1, 2, figsize=(12, 6))\n",
    "\n",
    "ax[0].bar(counts_train[0], counts_train[1])\n",
    "ax[0].set_title('Training Set Distribution')\n",
    "ax[0].set_xlabel('Class')\n",
    "ax[0].set_ylabel('Count')\n",
    "\n",
    "ax[1].bar(counts_test[0], counts_test[1])\n",
    "ax[1].set_title('Test Set Distribution')\n",
    "ax[1].set_xlabel('Class')\n",
    "ax[1].set_ylabel('Count')\n",
    "\n",
    "plt.show()"
   ]
  },
  {
   "cell_type": "markdown",
   "metadata": {},
   "source": [
    "# 3. EMGFAN Architecture"
   ]
  },
  {
   "cell_type": "code",
   "execution_count": 8,
   "metadata": {},
   "outputs": [
    {
     "data": {
      "text/plain": [
       "EMGFANNew(\n",
       "  (first): Conv2d(1, 32, kernel_size=(3, 3), stride=(1, 1))\n",
       "  (bn1): BatchNorm2d(32, eps=1e-05, momentum=0.1, affine=True, track_running_stats=True)\n",
       "  (htanh1): ReLU()\n",
       "  (conv2): Conv2d(32, 32, kernel_size=(3, 3), stride=(1, 1))\n",
       "  (bn2): BatchNorm2d(32, eps=1e-05, momentum=0.1, affine=True, track_running_stats=True)\n",
       "  (htanh2): ReLU()\n",
       "  (maxpool2): MaxPool2d(kernel_size=(2, 2), stride=(2, 2), padding=0, dilation=1, ceil_mode=False)\n",
       "  (dropout): Dropout(p=0.5, inplace=False)\n",
       "  (flatten): Flatten(start_dim=1, end_dim=-1)\n",
       "  (FAN): FANLayer(\n",
       "    (input_linear_p): Linear(in_features=576, out_features=64, bias=True)\n",
       "    (input_linear_g): Linear(in_features=576, out_features=128, bias=True)\n",
       "    (activation): GELU(approximate='none')\n",
       "  )\n",
       "  (bn3): BatchNorm1d(256, eps=1e-05, momentum=0.1, affine=True, track_running_stats=True)\n",
       "  (htanh3): ReLU()\n",
       "  (last): Linear(in_features=256, out_features=7, bias=True)\n",
       ")"
      ]
     },
     "execution_count": 8,
     "metadata": {},
     "output_type": "execute_result"
    }
   ],
   "source": [
    "device = torch.device(\"cuda\" if torch.cuda.is_available() else \"cpu\")\n",
    "model = EMGFANNew(1, number_gestures, similarparameter=False)\n",
    "model.to(device)"
   ]
  },
  {
   "cell_type": "code",
   "execution_count": 9,
   "metadata": {},
   "outputs": [
    {
     "data": {
      "text/plain": [
       "<All keys matched successfully>"
      ]
     },
     "execution_count": 9,
     "metadata": {},
     "output_type": "execute_result"
    }
   ],
   "source": [
    "save_emgfan_dir = '/mnt/d/AI-Workspace/sEMGClassification/AdaptiveModel/code/models/model_weights/EMGFAN/PreTrain/7_Channels/emgfan_pretrain_15.pth'\n",
    "model.load_state_dict(torch.load(save_emgfan_dir))"
   ]
  },
  {
   "cell_type": "markdown",
   "metadata": {},
   "source": [
    "# 4. Distance Metrics"
   ]
  },
  {
   "cell_type": "code",
   "execution_count": 10,
   "metadata": {},
   "outputs": [],
   "source": [
    "def distance(query, support):\n",
    "\n",
    "    n = query.size(0)\n",
    "    m = support.size(0)\n",
    "    d = query.size(1)\n",
    "    assert d == support.size(1)\n",
    "\n",
    "    query = query.unsqueeze(1).expand(n, m, d)\n",
    "    support = support.unsqueeze(0).expand(n, m, d)\n",
    "\n",
    "    dist = torch.pow(query - support, 2).sum(2)\n",
    "    return dist"
   ]
  },
  {
   "cell_type": "markdown",
   "metadata": {},
   "source": [
    "# 5. Calculate Loss and Accuracy"
   ]
  },
  {
   "cell_type": "code",
   "execution_count": 11,
   "metadata": {},
   "outputs": [],
   "source": [
    "def set_forward_loss(model, data, n_way, n_support, n_query):\n",
    "    \"\"\"\n",
    "    Computes loss, accuracy and output for classification task\n",
    "    Args:\n",
    "        sample (torch.Tensor): shape (n_way, n_support+n_query, (dim)) \n",
    "    Returns:\n",
    "        torch.Tensor: shape(2), loss, accuracy and y_hat\n",
    "    \"\"\"\n",
    "    sample_images = data.cuda()\n",
    "    n_way = n_way\n",
    "    n_support = n_support\n",
    "    n_query = n_query\n",
    "\n",
    "    x_support = sample_images[:, :n_support]\n",
    "    x_query = sample_images[:, n_support:]\n",
    "   \n",
    "    #target indices are 0 ... n_way-1\n",
    "    target_inds = torch.arange(0, n_way).view(n_way, 1, 1).expand(n_way, n_query, 1).long()\n",
    "    target_inds = Variable(target_inds, requires_grad=False)\n",
    "    target_inds = target_inds.cuda()\n",
    "   \n",
    "    #encode images of the support and the query set\n",
    "    x = torch.cat([x_support.contiguous().view(n_way * n_support, *x_support.size()[2:]),\n",
    "                   x_query.contiguous().view(n_way * n_query, *x_query.size()[2:])], 0)\n",
    "   \n",
    "    z = model(x)\n",
    "    z_dim = z.size(-1) #usually 64\n",
    "    z_proto = z[:n_way*n_support].view(n_way, n_support, z_dim).mean(1)\n",
    "    z_query = z[n_way*n_support:]\n",
    "\n",
    "    #compute distances\n",
    "    dists = distance(z_query, z_proto)\n",
    "    \n",
    "    #compute probabilities\n",
    "    log_p_y = F.log_softmax(-dists, dim=1).view(n_way, n_query, -1)\n",
    "   \n",
    "    loss_val = -log_p_y.gather(2, target_inds).squeeze().view(-1).mean()\n",
    "    _, y_hat = log_p_y.max(2)\n",
    "    acc_val = torch.eq(y_hat, target_inds.squeeze()).float().mean()\n",
    "   \n",
    "    return loss_val, {\n",
    "        'loss': loss_val.item(),\n",
    "        'acc': acc_val.item(),\n",
    "        'y_hat': y_hat\n",
    "        }"
   ]
  },
  {
   "cell_type": "markdown",
   "metadata": {},
   "source": [
    "# 6. Training"
   ]
  },
  {
   "cell_type": "code",
   "execution_count": 12,
   "metadata": {},
   "outputs": [],
   "source": [
    "def train(model, optimizer, train_x, train_y, n_way, n_support, n_query, max_epoch, epoch_size):\n",
    "    \n",
    "    #optimizer = optim.Adam(model.parameters(), lr = 0.001)\n",
    "    scheduler = optim.lr_scheduler.StepLR(optimizer, 1, gamma=0.5, last_epoch=-1)\n",
    "    epoch = 0 #epochs done so far\n",
    "    stop = False #status to know when to stop\n",
    "    while epoch < max_epoch and not stop: # Breaks when max epoch is met\n",
    "        running_loss = 0.0\n",
    "        running_acc = 0.0\n",
    "        # For 1 epoch run 2000 episodes\n",
    "        # 1 Episode is 1 set of n_way classes with n_support and n_query samples each\n",
    "        #for episode in tnrange(epoch_size, desc=\"Epoch {:d} train\".format(epoch+1)):\n",
    "        for episode in tqdm.tqdm(range(epoch_size)):\n",
    "            sample, _ = extract_support_n_query(train_x, train_y,n_way, n_support, n_query)\n",
    "            sample = torch.from_numpy(sample).float()\n",
    "            optimizer.zero_grad()\n",
    "            model = model.cuda()\n",
    "            loss, output = set_forward_loss(model, sample, n_way, n_support, n_query)\n",
    "            running_loss += output['loss']\n",
    "            running_acc += output['acc']\n",
    "            loss.backward()\n",
    "            optimizer.step()\n",
    "        epoch_loss = running_loss / epoch_size\n",
    "        epoch_acc = running_acc / epoch_size\n",
    "        print(f'epoch :, {epoch}, loss :, {epoch_loss}, accuracy :, {epoch_acc*100:.2f}%')\n",
    "        epoch += 1\n",
    "        scheduler.step()"
   ]
  },
  {
   "cell_type": "code",
   "execution_count": 13,
   "metadata": {},
   "outputs": [
    {
     "name": "stderr",
     "output_type": "stream",
     "text": [
      "100%|██████████| 2000/2000 [00:08<00:00, 233.16it/s]\n"
     ]
    },
    {
     "name": "stdout",
     "output_type": "stream",
     "text": [
      "epoch :, 0, loss :, 3.0486901087500153, accuracy :, 76.25%\n"
     ]
    },
    {
     "name": "stderr",
     "output_type": "stream",
     "text": [
      "100%|██████████| 2000/2000 [00:09<00:00, 220.26it/s]\n"
     ]
    },
    {
     "name": "stdout",
     "output_type": "stream",
     "text": [
      "epoch :, 1, loss :, 0.397972563168034, accuracy :, 87.63%\n"
     ]
    },
    {
     "name": "stderr",
     "output_type": "stream",
     "text": [
      "100%|██████████| 2000/2000 [00:09<00:00, 219.17it/s]\n"
     ]
    },
    {
     "name": "stdout",
     "output_type": "stream",
     "text": [
      "epoch :, 2, loss :, 0.25949592532683163, accuracy :, 91.49%\n"
     ]
    },
    {
     "name": "stderr",
     "output_type": "stream",
     "text": [
      "100%|██████████| 2000/2000 [00:10<00:00, 194.96it/s]\n"
     ]
    },
    {
     "name": "stdout",
     "output_type": "stream",
     "text": [
      "epoch :, 3, loss :, 0.20102575309784151, accuracy :, 93.30%\n"
     ]
    },
    {
     "name": "stderr",
     "output_type": "stream",
     "text": [
      "100%|██████████| 2000/2000 [00:09<00:00, 202.47it/s]\n"
     ]
    },
    {
     "name": "stdout",
     "output_type": "stream",
     "text": [
      "epoch :, 4, loss :, 0.16580599951627664, accuracy :, 94.33%\n"
     ]
    },
    {
     "name": "stderr",
     "output_type": "stream",
     "text": [
      "100%|██████████| 2000/2000 [00:09<00:00, 214.77it/s]\n"
     ]
    },
    {
     "name": "stdout",
     "output_type": "stream",
     "text": [
      "epoch :, 5, loss :, 0.15992479530419224, accuracy :, 94.50%\n"
     ]
    },
    {
     "name": "stderr",
     "output_type": "stream",
     "text": [
      "100%|██████████| 2000/2000 [00:09<00:00, 215.53it/s]\n"
     ]
    },
    {
     "name": "stdout",
     "output_type": "stream",
     "text": [
      "epoch :, 6, loss :, 0.14825167169538325, accuracy :, 94.81%\n"
     ]
    },
    {
     "name": "stderr",
     "output_type": "stream",
     "text": [
      "100%|██████████| 2000/2000 [00:09<00:00, 217.83it/s]\n"
     ]
    },
    {
     "name": "stdout",
     "output_type": "stream",
     "text": [
      "epoch :, 7, loss :, 0.1481536323800683, accuracy :, 94.90%\n"
     ]
    },
    {
     "name": "stderr",
     "output_type": "stream",
     "text": [
      "100%|██████████| 2000/2000 [00:09<00:00, 216.24it/s]\n"
     ]
    },
    {
     "name": "stdout",
     "output_type": "stream",
     "text": [
      "epoch :, 8, loss :, 0.14315447927673813, accuracy :, 95.03%\n"
     ]
    },
    {
     "name": "stderr",
     "output_type": "stream",
     "text": [
      "100%|██████████| 2000/2000 [00:09<00:00, 213.19it/s]\n"
     ]
    },
    {
     "name": "stdout",
     "output_type": "stream",
     "text": [
      "epoch :, 9, loss :, 0.14050494785548653, accuracy :, 95.12%\n"
     ]
    },
    {
     "name": "stderr",
     "output_type": "stream",
     "text": [
      "100%|██████████| 2000/2000 [00:10<00:00, 199.57it/s]\n"
     ]
    },
    {
     "name": "stdout",
     "output_type": "stream",
     "text": [
      "epoch :, 10, loss :, 0.14132831729180179, accuracy :, 95.17%\n"
     ]
    },
    {
     "name": "stderr",
     "output_type": "stream",
     "text": [
      "100%|██████████| 2000/2000 [00:09<00:00, 201.95it/s]\n"
     ]
    },
    {
     "name": "stdout",
     "output_type": "stream",
     "text": [
      "epoch :, 11, loss :, 0.14215861490136011, accuracy :, 95.10%\n"
     ]
    },
    {
     "name": "stderr",
     "output_type": "stream",
     "text": [
      "100%|██████████| 2000/2000 [00:09<00:00, 207.43it/s]\n"
     ]
    },
    {
     "name": "stdout",
     "output_type": "stream",
     "text": [
      "epoch :, 12, loss :, 0.13912393453903496, accuracy :, 95.25%\n"
     ]
    },
    {
     "name": "stderr",
     "output_type": "stream",
     "text": [
      "100%|██████████| 2000/2000 [00:09<00:00, 222.02it/s]\n"
     ]
    },
    {
     "name": "stdout",
     "output_type": "stream",
     "text": [
      "epoch :, 13, loss :, 0.1417845741373021, accuracy :, 95.11%\n"
     ]
    },
    {
     "name": "stderr",
     "output_type": "stream",
     "text": [
      "100%|██████████| 2000/2000 [00:09<00:00, 213.09it/s]"
     ]
    },
    {
     "name": "stdout",
     "output_type": "stream",
     "text": [
      "epoch :, 14, loss :, 0.1435370176397264, accuracy :, 94.94%\n"
     ]
    },
    {
     "name": "stderr",
     "output_type": "stream",
     "text": [
      "\n"
     ]
    }
   ],
   "source": [
    "optimizer = optim.Adam(model.parameters(), lr = 0.001)\n",
    "\n",
    "n_way = 7\n",
    "n_support = 5\n",
    "n_query = 5\n",
    "\n",
    "train_x = window_train_data\n",
    "train_y = window_train_labels\n",
    "\n",
    "max_epoch = 15\n",
    "epoch_size = 2000\n",
    "\n",
    "train(model, optimizer, train_x, train_y, n_way, n_support, n_query, max_epoch, epoch_size)"
   ]
  },
  {
   "cell_type": "code",
   "execution_count": 14,
   "metadata": {},
   "outputs": [],
   "source": [
    "save_dir_meta = '/mnt/d/AI-Workspace/sEMGClassification/AdaptiveModel/code/models/model_weights/EMGFAN/MetaLearn/emgfan_7_c.pth'\n",
    "torch.save(model.state_dict(), save_dir_meta)"
   ]
  },
  {
   "cell_type": "markdown",
   "metadata": {},
   "source": [
    "# 7. Test"
   ]
  },
  {
   "cell_type": "code",
   "execution_count": 15,
   "metadata": {},
   "outputs": [],
   "source": [
    "def test(model, test_x, test_y, n_way, n_support, n_query, test_episode):\n",
    "\n",
    "    running_loss = 0.0\n",
    "    running_acc = 0.0\n",
    "\n",
    "    for episode in tqdm.tqdm(range(test_episode)):\n",
    "        sample, _ = extract_support_n_query(test_x, test_y, n_way, n_support, n_query)\n",
    "        sample = torch.from_numpy(sample).float()\n",
    "        model = model.cuda()\n",
    "        loss, output = set_forward_loss(model, sample, n_way, n_support, n_query)\n",
    "        running_loss += output['loss']\n",
    "        running_acc += output['acc']\n",
    "    \n",
    "    avg_loss = running_loss / test_episode\n",
    "    avg_acc = running_acc / test_episode\n",
    "\n",
    "    print(f'Average Loss :, avg_loss, Average Accuracy :, {avg_acc*100:.2f}%')"
   ]
  },
  {
   "cell_type": "code",
   "execution_count": 18,
   "metadata": {},
   "outputs": [
    {
     "name": "stderr",
     "output_type": "stream",
     "text": [
      "100%|██████████| 1000/1000 [00:01<00:00, 504.47it/s]"
     ]
    },
    {
     "name": "stdout",
     "output_type": "stream",
     "text": [
      "Average Loss :, avg_loss, Average Accuracy :, 80.23%\n"
     ]
    },
    {
     "name": "stderr",
     "output_type": "stream",
     "text": [
      "\n"
     ]
    }
   ],
   "source": [
    "n_way = 7\n",
    "n_support = 5\n",
    "n_query = 5\n",
    "\n",
    "test_x = window_test_data\n",
    "test_y = window_test_labels\n",
    "\n",
    "test_episode = 1000\n",
    "\n",
    "test(model, test_x, test_y, n_way, n_support, n_query, test_episode)"
   ]
  },
  {
   "cell_type": "code",
   "execution_count": null,
   "metadata": {},
   "outputs": [],
   "source": []
  }
 ],
 "metadata": {
  "kernelspec": {
   "display_name": "torch",
   "language": "python",
   "name": "python3"
  },
  "language_info": {
   "codemirror_mode": {
    "name": "ipython",
    "version": 3
   },
   "file_extension": ".py",
   "mimetype": "text/x-python",
   "name": "python",
   "nbconvert_exporter": "python",
   "pygments_lexer": "ipython3",
   "version": "3.12.4"
  }
 },
 "nbformat": 4,
 "nbformat_minor": 2
}
