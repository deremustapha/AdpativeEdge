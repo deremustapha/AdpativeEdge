{
 "cells": [
  {
   "cell_type": "code",
   "execution_count": 1,
   "metadata": {},
   "outputs": [
    {
     "name": "stderr",
     "output_type": "stream",
     "text": [
      "2025-03-31 11:40:41.177437: W tensorflow/stream_executor/platform/default/dso_loader.cc:64] Could not load dynamic library 'libcudart.so.11.0'; dlerror: libcudart.so.11.0: cannot open shared object file: No such file or directory; LD_LIBRARY_PATH: /tmp/.mount_cursorLlI9g5/usr/lib:\n",
      "2025-03-31 11:40:41.177456: I tensorflow/stream_executor/cuda/cudart_stub.cc:29] Ignore above cudart dlerror if you do not have a GPU set up on your machine.\n"
     ]
    }
   ],
   "source": [
    "import numpy as np\n",
    "import matplotlib.pyplot as plt\n",
    "from datetime import datetime\n",
    "import json\n",
    "import pandas as pd\n",
    "\n",
    "from TinyTNAS import TinyTNAS\n",
    "from keras.callbacks import ModelCheckpoint, EarlyStopping, LearningRateScheduler, ReduceLROnPlateau\n",
    "from tensorflow.keras.callbacks import CSVLogger\n",
    "from ModelBank import *\n",
    "\n",
    "\n",
    "from utils.data_preparation import *\n",
    "from utils.preprocessing import *\n",
    "from utils.features import *"
   ]
  },
  {
   "cell_type": "code",
   "execution_count": 2,
   "metadata": {},
   "outputs": [],
   "source": [
    "path = '/home/bmis/Documents/AI-Workspace/sEMGClassification/AdaptiveModel/data/6_Flex_BMIS/flex_bmis/mat_data'\n",
    "#path ='/home/bmis/Documents/AI-Workspace/sEMGClassification/AdaptiveModel/data/2_BMIS/mat_data'\n",
    "subject_number = 2\n",
    "session_number = 1\n",
    "record_time = 5\n",
    "\n",
    "train_repetition = [1, 2, 3, 4, 5, 6, 7, 8, 9]\n",
    "test_repetition = [3, 5]\n",
    "\n",
    "gesture = [1, 2, 3, 4, 5, 6, 7]\n",
    "selected_gesture = [1, 2, 3, 4, 5, 6, 7]\n",
    "num_gesture = len(gesture)\n",
    "\n",
    "no_channel = 8\n",
    "low_cut = 10.0\n",
    "high_cut = 120.0\n",
    "notch_freq = 60.0\n",
    "overlap = 60\n",
    "window_time = 200\n",
    "order = 5\n",
    "fs = 250\n",
    "\n",
    "record_time = 5\n",
    "\n",
    "start_subject=2\n",
    "end_subject=4 \n",
    "session_number=1\n",
    "activate_session=True\n",
    "\n",
    "batch_size = 32"
   ]
  },
  {
   "cell_type": "code",
   "execution_count": 3,
   "metadata": {},
   "outputs": [
    {
     "data": {
      "text/plain": [
       "((1983, 8, 50, 1), (1983,), (945, 8, 50, 1), (945,), (851, 8, 50, 1), (851,))"
      ]
     },
     "execution_count": 3,
     "metadata": {},
     "output_type": "execute_result"
    }
   ],
   "source": [
    "num_class = 7\n",
    "lossf = 0\n",
    "constraints_specs= {\"ram\"   : 1024*20,    # 'ram' in bytes\n",
    "                    \"flash\" : 1024*64,    # 'flash' in bytes\n",
    "                    \"macc\"  : 60*1000 }\n",
    "\n",
    "\n",
    "emg_prep = EMGDataPreparation(base_path=path, fs=fs, rec_time=record_time)\n",
    "subject_path, train_gesture, test_gesture = emg_prep.get_per_subject_file(subject_number=subject_number, num_gesture=num_gesture, activate_session=True, session=session_number, train_repetition=train_repetition, test_repetition=test_repetition)\n",
    "\n",
    "train_data, _ = emg_prep.load_data_per_subject(subject_path, selected_gesture=selected_gesture, train_gesture=train_gesture, test_gesture=test_gesture)\n",
    "train_data, train_labels = emg_prep.get_data_labels(train_data)\n",
    "\n",
    "train_data = train_data/10000\n",
    "train_data = np.abs(train_data)\n",
    "\n",
    "preprocess = EMGPreprocessing(fs=fs, notch_freq=notch_freq, low_cut=low_cut, high_cut=high_cut, order=order)\n",
    "train_data = preprocess.remove_mains(train_data)\n",
    "# test_data = preprocess.remove_mains(test_data)\n",
    "\n",
    "train_data = preprocess.bandpass_filter(train_data)\n",
    "#test_data = preprocess.bandpass_filter(test_data)\n",
    "\n",
    "# train_data = preprocess.highpass_filter(train_data)\n",
    "# test_data = preprocess.highpass_filter(test_data)\n",
    "\n",
    "window_train_data, window_train_labels = emg_prep.window_with_overlap(train_data, train_labels, window_time=window_time, overlap=overlap, no_channel=no_channel)\n",
    "\n",
    "window_train_data, window_train_labels, window_test_data, window_test_labels = data_split(window_train_data, window_train_labels, train_ratio=75)\n",
    "\n",
    "window_train_data, window_train_labels, window_val_data, window_val_labels = data_split(window_train_data, window_train_labels, train_ratio=70)\n",
    "# window_test_data, window_test_labels = emg_prep.window_with_overlap(test_data, test_labels, window_time=window_time, overlap=overlap, no_channel=no_channel)\n",
    "\n",
    "\n",
    "window_train_data, window_train_labels = shuffle_data(window_train_data, window_train_labels)\n",
    "window_val_data, window_val_labels = shuffle_data(window_val_data, window_val_labels)\n",
    "window_test_data, window_test_labels = shuffle_data(window_test_data, window_test_labels)\n",
    "\n",
    "window_train_data = raw_emg_data(window_train_data)\n",
    "window_val_data = raw_emg_data(window_val_data)\n",
    "window_test_data = raw_emg_data(window_test_data)\n",
    "\n",
    "window_train_data.shape, window_train_labels.shape, window_test_data.shape, window_test_labels.shape, window_val_data.shape, window_val_labels.shape"
   ]
  },
  {
   "cell_type": "code",
   "execution_count": 4,
   "metadata": {},
   "outputs": [],
   "source": [
    "X = window_train_data\n",
    "Y = window_train_labels\n",
    "\n",
    "X_val = window_val_data\n",
    "Y_val = window_val_labels\n",
    "\n",
    "batch_size=32\n",
    "input_shape = (X.shape[1:])\n",
    "learning_rate = 0.0001\n",
    "\n",
    "train_ds = (X,Y)\n",
    "val_ds = (X_val,Y_val)\n",
    "\n",
    "\n",
    "X_test = window_test_data\n",
    "y_test = window_test_labels"
   ]
  },
  {
   "cell_type": "code",
   "execution_count": 5,
   "metadata": {},
   "outputs": [
    {
     "data": {
      "text/plain": [
       "(8, 50, 1)"
      ]
     },
     "execution_count": 5,
     "metadata": {},
     "output_type": "execute_result"
    }
   ],
   "source": [
    "input_size = window_train_data.shape[1:]\n",
    "input_size"
   ]
  },
  {
   "cell_type": "code",
   "execution_count": 6,
   "metadata": {},
   "outputs": [],
   "source": [
    "def emg_net():\n",
    "    \n",
    "    inputs = tf.keras.Input(shape=input_size)\n",
    "    x = tf.keras.layers.Conv2D(32, 3, activation=\"relu\", input_shape=input_size)(inputs)\n",
    "    x = tf.keras.layers.Conv2D(32, 3, activation=\"relu\")(x)\n",
    "    x = tf.keras.layers.MaxPool2D((2,2))(x)\n",
    "    x = tf.keras.layers.Dropout(0.5)(x)\n",
    "    x = tf.keras.layers.Flatten()(x)\n",
    "    x = tf.keras.layers.Dense(151, activation='relu')(x)\n",
    "    outputs = tf.keras.layers.Dense(7, activation='softmax')(x)\n",
    "    model = tf.keras.Model(inputs=inputs, outputs=outputs, name=\"BMIS-EMG-NET\")\n",
    "    \n",
    "    return model"
   ]
  },
  {
   "cell_type": "code",
   "execution_count": 7,
   "metadata": {},
   "outputs": [
    {
     "name": "stdout",
     "output_type": "stream",
     "text": [
      "Model: \"BMIS-EMG-NET\"\n",
      "_________________________________________________________________\n",
      " Layer (type)                Output Shape              Param #   \n",
      "=================================================================\n",
      " input_1 (InputLayer)        [(None, 8, 50, 1)]        0         \n",
      "                                                                 \n",
      " conv2d (Conv2D)             (None, 6, 48, 32)         320       \n",
      "                                                                 \n",
      " conv2d_1 (Conv2D)           (None, 4, 46, 32)         9248      \n",
      "                                                                 \n",
      " max_pooling2d (MaxPooling2D  (None, 2, 23, 32)        0         \n",
      " )                                                               \n",
      "                                                                 \n",
      " dropout (Dropout)           (None, 2, 23, 32)         0         \n",
      "                                                                 \n",
      " flatten (Flatten)           (None, 1472)              0         \n",
      "                                                                 \n",
      " dense (Dense)               (None, 151)               222423    \n",
      "                                                                 \n",
      " dense_1 (Dense)             (None, 7)                 1064      \n",
      "                                                                 \n",
      "=================================================================\n",
      "Total params: 233,055\n",
      "Trainable params: 233,055\n",
      "Non-trainable params: 0\n",
      "_________________________________________________________________\n"
     ]
    },
    {
     "name": "stderr",
     "output_type": "stream",
     "text": [
      "2025-03-31 11:40:42.857358: I tensorflow/stream_executor/cuda/cuda_gpu_executor.cc:936] successful NUMA node read from SysFS had negative value (-1), but there must be at least one NUMA node, so returning NUMA node zero\n",
      "2025-03-31 11:40:42.868096: W tensorflow/stream_executor/platform/default/dso_loader.cc:64] Could not load dynamic library 'libcudart.so.11.0'; dlerror: libcudart.so.11.0: cannot open shared object file: No such file or directory; LD_LIBRARY_PATH: /tmp/.mount_cursorLlI9g5/usr/lib:\n",
      "2025-03-31 11:40:42.868320: W tensorflow/stream_executor/platform/default/dso_loader.cc:64] Could not load dynamic library 'libcublas.so.11'; dlerror: libcublas.so.11: cannot open shared object file: No such file or directory; LD_LIBRARY_PATH: /tmp/.mount_cursorLlI9g5/usr/lib:\n",
      "2025-03-31 11:40:42.868508: W tensorflow/stream_executor/platform/default/dso_loader.cc:64] Could not load dynamic library 'libcublasLt.so.11'; dlerror: libcublasLt.so.11: cannot open shared object file: No such file or directory; LD_LIBRARY_PATH: /tmp/.mount_cursorLlI9g5/usr/lib:\n",
      "2025-03-31 11:40:42.868622: W tensorflow/stream_executor/platform/default/dso_loader.cc:64] Could not load dynamic library 'libcufft.so.10'; dlerror: libcufft.so.10: cannot open shared object file: No such file or directory; LD_LIBRARY_PATH: /tmp/.mount_cursorLlI9g5/usr/lib:\n",
      "2025-03-31 11:40:42.868728: W tensorflow/stream_executor/platform/default/dso_loader.cc:64] Could not load dynamic library 'libcurand.so.10'; dlerror: libcurand.so.10: cannot open shared object file: No such file or directory; LD_LIBRARY_PATH: /tmp/.mount_cursorLlI9g5/usr/lib:\n",
      "2025-03-31 11:40:42.868836: W tensorflow/stream_executor/platform/default/dso_loader.cc:64] Could not load dynamic library 'libcusolver.so.11'; dlerror: libcusolver.so.11: cannot open shared object file: No such file or directory; LD_LIBRARY_PATH: /tmp/.mount_cursorLlI9g5/usr/lib:\n",
      "2025-03-31 11:40:42.869954: W tensorflow/stream_executor/platform/default/dso_loader.cc:64] Could not load dynamic library 'libcusparse.so.11'; dlerror: libcusparse.so.11: cannot open shared object file: No such file or directory; LD_LIBRARY_PATH: /tmp/.mount_cursorLlI9g5/usr/lib:\n",
      "2025-03-31 11:40:42.870105: W tensorflow/stream_executor/platform/default/dso_loader.cc:64] Could not load dynamic library 'libcudnn.so.8'; dlerror: libcudnn.so.8: cannot open shared object file: No such file or directory; LD_LIBRARY_PATH: /tmp/.mount_cursorLlI9g5/usr/lib:\n",
      "2025-03-31 11:40:42.870123: W tensorflow/core/common_runtime/gpu/gpu_device.cc:1850] Cannot dlopen some GPU libraries. Please make sure the missing libraries mentioned above are installed properly if you would like to use GPU. Follow the guide at https://www.tensorflow.org/install/gpu for how to download and setup the required libraries for your platform.\n",
      "Skipping registering GPU devices...\n",
      "2025-03-31 11:40:42.870485: I tensorflow/core/platform/cpu_feature_guard.cc:151] This TensorFlow binary is optimized with oneAPI Deep Neural Network Library (oneDNN) to use the following CPU instructions in performance-critical operations:  AVX2 FMA\n",
      "To enable them in other operations, rebuild TensorFlow with the appropriate compiler flags.\n"
     ]
    }
   ],
   "source": [
    "model = emg_net()\n",
    "model.summary()"
   ]
  },
  {
   "cell_type": "code",
   "execution_count": 8,
   "metadata": {},
   "outputs": [],
   "source": [
    "lr = 0.001\n",
    "opt = tf.keras.optimizers.Adam(learning_rate=lr, epsilon=1e-07, clipnorm=1)\n",
    "ls = 'sparse_categorical_crossentropy'\n",
    "mtr = 'accuracy'"
   ]
  },
  {
   "cell_type": "code",
   "execution_count": 9,
   "metadata": {},
   "outputs": [
    {
     "data": {
      "text/plain": [
       "(0.5426898972571771, -0.5316906097043492)"
      ]
     },
     "execution_count": 9,
     "metadata": {},
     "output_type": "execute_result"
    }
   ],
   "source": [
    "window_train_data.max(), window_train_data.min()"
   ]
  },
  {
   "cell_type": "code",
   "execution_count": 10,
   "metadata": {},
   "outputs": [],
   "source": [
    "model = emg_net()\n",
    "model.compile(optimizer=opt, loss=ls, metrics=mtr)\n",
    "early_stop = tf.keras.callbacks.EarlyStopping(monitor='accuracy', patience=5)"
   ]
  },
  {
   "cell_type": "code",
   "execution_count": 11,
   "metadata": {},
   "outputs": [
    {
     "name": "stdout",
     "output_type": "stream",
     "text": [
      "Epoch 1/30\n",
      "62/62 [==============================] - 1s 12ms/step - loss: 1.4746 - accuracy: 0.2769 - val_loss: 5.7094 - val_accuracy: 0.0000e+00\n",
      "Epoch 2/30\n",
      "62/62 [==============================] - 1s 9ms/step - loss: 1.3808 - accuracy: 0.2733 - val_loss: 6.1136 - val_accuracy: 0.0000e+00\n",
      "Epoch 3/30\n",
      "62/62 [==============================] - 1s 9ms/step - loss: 1.3282 - accuracy: 0.3439 - val_loss: 5.5564 - val_accuracy: 0.0000e+00\n",
      "Epoch 4/30\n",
      "62/62 [==============================] - 1s 13ms/step - loss: 1.1457 - accuracy: 0.4846 - val_loss: 6.5114 - val_accuracy: 0.0000e+00\n",
      "Epoch 5/30\n",
      "62/62 [==============================] - 1s 12ms/step - loss: 0.9427 - accuracy: 0.6122 - val_loss: 7.2959 - val_accuracy: 0.1751\n",
      "Epoch 6/30\n",
      "62/62 [==============================] - 1s 9ms/step - loss: 0.7734 - accuracy: 0.6884 - val_loss: 7.5087 - val_accuracy: 0.1868\n",
      "Epoch 7/30\n",
      "62/62 [==============================] - 1s 9ms/step - loss: 0.6579 - accuracy: 0.7504 - val_loss: 7.2126 - val_accuracy: 0.1739\n",
      "Epoch 8/30\n",
      "62/62 [==============================] - 1s 9ms/step - loss: 0.5958 - accuracy: 0.7680 - val_loss: 7.1360 - val_accuracy: 0.1457\n",
      "Epoch 9/30\n",
      "62/62 [==============================] - 1s 9ms/step - loss: 0.5404 - accuracy: 0.8064 - val_loss: 8.1963 - val_accuracy: 0.1293\n",
      "Epoch 10/30\n",
      "62/62 [==============================] - 1s 9ms/step - loss: 0.4864 - accuracy: 0.8139 - val_loss: 8.2300 - val_accuracy: 0.1845\n",
      "Epoch 11/30\n",
      "62/62 [==============================] - 1s 9ms/step - loss: 0.4648 - accuracy: 0.8396 - val_loss: 8.1953 - val_accuracy: 0.1586\n",
      "Epoch 12/30\n",
      "62/62 [==============================] - 1s 9ms/step - loss: 0.4156 - accuracy: 0.8391 - val_loss: 8.4146 - val_accuracy: 0.1716\n",
      "Epoch 13/30\n",
      "62/62 [==============================] - 1s 9ms/step - loss: 0.3800 - accuracy: 0.8517 - val_loss: 8.8303 - val_accuracy: 0.1727\n",
      "Epoch 14/30\n",
      "62/62 [==============================] - 1s 12ms/step - loss: 0.3653 - accuracy: 0.8689 - val_loss: 7.9683 - val_accuracy: 0.1739\n",
      "Epoch 15/30\n",
      "62/62 [==============================] - 1s 11ms/step - loss: 0.3393 - accuracy: 0.8724 - val_loss: 9.1012 - val_accuracy: 0.1833\n",
      "Epoch 16/30\n",
      "62/62 [==============================] - 1s 12ms/step - loss: 0.3022 - accuracy: 0.8921 - val_loss: 9.3798 - val_accuracy: 0.1821\n",
      "Epoch 17/30\n",
      "62/62 [==============================] - 1s 9ms/step - loss: 0.2785 - accuracy: 0.8991 - val_loss: 9.3261 - val_accuracy: 0.1786\n",
      "Epoch 18/30\n",
      "62/62 [==============================] - 1s 8ms/step - loss: 0.2505 - accuracy: 0.9117 - val_loss: 9.2176 - val_accuracy: 0.1833\n",
      "Epoch 19/30\n",
      "62/62 [==============================] - 1s 8ms/step - loss: 0.2562 - accuracy: 0.9067 - val_loss: 9.9660 - val_accuracy: 0.1727\n",
      "Epoch 20/30\n",
      "62/62 [==============================] - 1s 9ms/step - loss: 0.2579 - accuracy: 0.9138 - val_loss: 10.1520 - val_accuracy: 0.1810\n",
      "Epoch 21/30\n",
      "62/62 [==============================] - 1s 11ms/step - loss: 0.2468 - accuracy: 0.9143 - val_loss: 10.0446 - val_accuracy: 0.1786\n",
      "Epoch 22/30\n",
      "62/62 [==============================] - 1s 9ms/step - loss: 0.2420 - accuracy: 0.9062 - val_loss: 9.6706 - val_accuracy: 0.1786\n",
      "Epoch 23/30\n",
      "62/62 [==============================] - 1s 11ms/step - loss: 0.2329 - accuracy: 0.9188 - val_loss: 9.2291 - val_accuracy: 0.1680\n",
      "Epoch 24/30\n",
      "62/62 [==============================] - 0s 7ms/step - loss: 0.2227 - accuracy: 0.9228 - val_loss: 9.3642 - val_accuracy: 0.1845\n",
      "Epoch 25/30\n",
      "62/62 [==============================] - 0s 8ms/step - loss: 0.1971 - accuracy: 0.9319 - val_loss: 9.6279 - val_accuracy: 0.1810\n",
      "Epoch 26/30\n",
      "62/62 [==============================] - 0s 8ms/step - loss: 0.1945 - accuracy: 0.9324 - val_loss: 9.7104 - val_accuracy: 0.1633\n",
      "Epoch 27/30\n",
      "62/62 [==============================] - 0s 8ms/step - loss: 0.1838 - accuracy: 0.9274 - val_loss: 9.7416 - val_accuracy: 0.1680\n",
      "Epoch 28/30\n",
      "62/62 [==============================] - 1s 9ms/step - loss: 0.1835 - accuracy: 0.9390 - val_loss: 9.2931 - val_accuracy: 0.1821\n",
      "Epoch 29/30\n",
      "62/62 [==============================] - 1s 9ms/step - loss: 0.1794 - accuracy: 0.9344 - val_loss: 9.9067 - val_accuracy: 0.1810\n",
      "Epoch 30/30\n",
      "62/62 [==============================] - 0s 8ms/step - loss: 0.1733 - accuracy: 0.9360 - val_loss: 10.3266 - val_accuracy: 0.1575\n"
     ]
    }
   ],
   "source": [
    "history = model.fit(window_train_data, window_train_labels, validation_data=(window_val_data, window_val_labels), callbacks=[early_stop],\n",
    "                    batch_size=32, epochs=30, verbose=1)"
   ]
  },
  {
   "cell_type": "code",
   "execution_count": 12,
   "metadata": {},
   "outputs": [
    {
     "name": "stdout",
     "output_type": "stream",
     "text": [
      "30/30 [==============================] - 0s 2ms/step - loss: 13.5787 - accuracy: 0.0000e+00\n",
      "The accuracy of the model is 0.0:.4f\n"
     ]
    }
   ],
   "source": [
    "loss, accuracy = model.evaluate(window_test_data, window_test_labels)\n",
    "print(f'The accuracy of the model is {accuracy*100}:.4f')"
   ]
  }
 ],
 "metadata": {
  "kernelspec": {
   "display_name": "tinytnas",
   "language": "python",
   "name": "python3"
  },
  "language_info": {
   "codemirror_mode": {
    "name": "ipython",
    "version": 3
   },
   "file_extension": ".py",
   "mimetype": "text/x-python",
   "name": "python",
   "nbconvert_exporter": "python",
   "pygments_lexer": "ipython3",
   "version": "3.10.16"
  }
 },
 "nbformat": 4,
 "nbformat_minor": 2
}
